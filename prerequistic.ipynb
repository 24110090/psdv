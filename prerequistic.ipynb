{
  "cells": [
    {
      "cell_type": "markdown",
      "metadata": {
        "id": "view-in-github",
        "colab_type": "text"
      },
      "source": [
        "<a href=\"https://colab.research.google.com/github/24110090/psdv/blob/requistic/prerequistic.ipynb\" target=\"_parent\"><img src=\"https://colab.research.google.com/assets/colab-badge.svg\" alt=\"Open In Colab\"/></a>"
      ]
    },
    {
      "cell_type": "code",
      "source": [
        "import statistics\n",
        "\n",
        "#Create a list of the first 20 natural numbers\n",
        "natural_numbers = list(range(1,21))\n",
        "\n",
        "# to calculate the sum of all even numbers in the list\n",
        "even_sum =0\n",
        "for num in natural_numbers:\n",
        "  if num % 2 ==0:\n",
        "    even_sum+=num\n",
        "\n",
        "#the calculate product of all odd numbers in the list\n",
        "odd_product = 1\n",
        "for num in natural_numbers:\n",
        "    if num % 2 != 0:\n",
        "        odd_product *= num\n",
        "\n",
        "# Calculate mean, median, and standard deviation using the statistics module\n",
        "mean = statistics.mean(natural_numbers)\n",
        "median = statistics.median(natural_numbers)\n",
        "std_dev = statistics.stdev(natural_numbers)\n",
        "\n",
        "print(\"Sum of even numbers:\", even_sum)\n",
        "print(\"Product of odd numbers:\", odd_product)\n",
        "print(\"Mean:\", mean)\n",
        "print(\"Median:\", median)\n",
        "print(\"Standard Deviation:\", std_dev)"
      ],
      "metadata": {
        "colab": {
          "base_uri": "https://localhost:8080/",
          "height": 0
        },
        "id": "xxuBKlnJWhpO",
        "outputId": "f9632ded-6cae-42fa-eda0-bcb892207b8a"
      },
      "execution_count": 5,
      "outputs": [
        {
          "output_type": "stream",
          "name": "stdout",
          "text": [
            "Sum of even numbers: 110\n",
            "Product of odd numbers: 654729075\n",
            "Mean: 10.5\n",
            "Median: 10.5\n",
            "Standard Deviation: 5.916079783099616\n"
          ]
        }
      ]
    },
    {
      "cell_type": "code",
      "source": [
        "'''1. Mutable Data Types:\n",
        "A mutable object is one whose value can be changed or modified after it is created. When you modify a mutable object, the object itself is altered in memory.\n",
        "Examples of Mutable Data Types:\n",
        "Lists: You can add, remove, or modify elements in a list.\n",
        "Dictionaries: You can change the values associated with keys, add new key-value pairs,etc.\n",
        "Sets: You can add or remove elements in a set.\n",
        "\n",
        "\n",
        "2. Immutable Data Types:\n",
        "An immutable object is one whose value cannot be changed after it is created. If you try to modify an immutable object, a new object is created with the updated value.\n",
        "Examples of Immutable Data Types:\n",
        "Strings: You cannot change individual characters of a string.\n",
        "Tuples: Once a tuple is created, its elements cannot be changed.\n",
        "Integers: Integers are immutable.\n",
        "Floats: floats are immutable.'''\n",
        "# take a list\n",
        "list = [1, 2, 3]\n",
        "list[1] = 99  # Modify the second element\n",
        "print(list)  # Output: [1, 99, 3]\n",
        "\n",
        "# take a tuple\n",
        "tuple = (1, 2, 3)\n",
        "try:\n",
        "    tuple[1] = 99  # Trying to modify the tuple\n",
        "except TypeError as e:\n",
        "    print(f\"Error: {e}\")  # Output: 'tuple' object does not support item assignment\n",
        "#if we see the output we can say that list can be changed whereas a tuple doesn't hence we can differentiate them easily by this method."
      ],
      "metadata": {
        "colab": {
          "base_uri": "https://localhost:8080/",
          "height": 0
        },
        "id": "fXrBIDg1YccL",
        "outputId": "ad8813af-fc36-4a43-af74-1e29adebc130"
      },
      "execution_count": 11,
      "outputs": [
        {
          "output_type": "stream",
          "name": "stdout",
          "text": [
            "[1, 99, 3]\n",
            "Error: 'tuple' object does not support item assignment\n"
          ]
        }
      ]
    },
    {
      "cell_type": "code",
      "source": [
        "#first create a function to get fibonacci series\n",
        "def fibonacci_series(n):\n",
        "    fibonacci = [0, 1]\n",
        "    for i in range(2, n):\n",
        "        fibonacci.append(fibonacci[i - 1] + fibonacci[i - 2])\n",
        "    return fibonacci[:n]\n",
        "\n",
        "# now Number of Fibonacci numbers\n",
        "n = 10\n",
        "\n",
        "fib_sequence = fibonacci_series(n)\n",
        "\n",
        "# now Print the Fibonacci sequence\n",
        "print(f\"First {n} Fibonacci numbers: {fib_sequence}\")\n"
      ],
      "metadata": {
        "colab": {
          "base_uri": "https://localhost:8080/",
          "height": 0
        },
        "id": "wBe7bpGmaVoM",
        "outputId": "bb941842-5d0a-4d02-fadb-a3135beebd8a"
      },
      "execution_count": 21,
      "outputs": [
        {
          "output_type": "stream",
          "name": "stdout",
          "text": [
            "First 10 Fibonacci numbers: [0, 1, 1, 2, 3, 5, 8, 13, 21, 34]\n"
          ]
        }
      ]
    },
    {
      "cell_type": "code",
      "source": [
        "list = [3, 5, 7, 9, 11, 13]\n",
        "list.insert(3, 6)\n",
        "list.remove(7)\n",
        "list.reverse()\n",
        "\n",
        "# now to calculate the mean\n",
        "mean = sum(list) / len(list)\n",
        "\n",
        "# to calculate the median first we  Sort the list\n",
        "list_sorted = sorted(list)\n",
        "if len(list_sorted) % 2 == 1:\n",
        "    # if number of elements are odd then we use this\n",
        "    median = list_sorted[len(list_sorted) // 2]\n",
        "else:\n",
        "    # if number of elements are even then we should use this\n",
        "    median = (list_sorted[len(list_sorted) // 2 - 1] + list_sorted[len(list_sorted) // 2]) / 2\n",
        "\n",
        "print(f\"Modified list: {list}\")\n",
        "print(f\"Mean: {mean}\")\n",
        "print(f\"Median: {median}\")"
      ],
      "metadata": {
        "colab": {
          "base_uri": "https://localhost:8080/",
          "height": 0
        },
        "id": "T6axp5ykf26F",
        "outputId": "5ba84b5a-c0eb-4af1-8cca-5dd9ee0492f4"
      },
      "execution_count": 22,
      "outputs": [
        {
          "output_type": "stream",
          "name": "stdout",
          "text": [
            "Modified list: [13, 11, 9, 6, 5, 3]\n",
            "Mean: 7.833333333333333\n",
            "Median: 7.5\n"
          ]
        }
      ]
    },
    {
      "cell_type": "code",
      "source": [
        "#now create a comma-separated list of numbers from the user\n",
        "user_input = input(\"Enter a list of numbers separated by commas: \")\n",
        "\n",
        "# now we should keep comma the input string into a list of numbers\n",
        "numbers = [int(x) for x in user_input.split(',')]\n",
        "\n",
        "# now  Calculate the mean\n",
        "mean = sum(numbers) / len(numbers)\n",
        "\n",
        "# now given in question Identify the smallest and largest numbers\n",
        "smallest = min(numbers)\n",
        "largest = max(numbers)\n",
        "\n",
        "# Print the calculated statistics\n",
        "print(f\"Mean: {mean}\")\n",
        "print(f\"Smallest number: {smallest}\")\n",
        "print(f\"Largest number: {largest}\")"
      ],
      "metadata": {
        "colab": {
          "base_uri": "https://localhost:8080/",
          "height": 0
        },
        "id": "GDbNKn-smTzD",
        "outputId": "5a300e51-868a-4b01-8b4f-ccb5c9cd93a8"
      },
      "execution_count": 24,
      "outputs": [
        {
          "output_type": "stream",
          "name": "stdout",
          "text": [
            "Enter a list of numbers separated by commas: 10,20,30,40\n",
            "Mean: 25.0\n",
            "Smallest number: 10\n",
            "Largest number: 40\n"
          ]
        }
      ]
    },
    {
      "cell_type": "code",
      "source": [
        "def palindrome():\n",
        "  str=input()\n",
        "  if str==str[::-1]:\n",
        "    print(\"True\")\n",
        "  else:\n",
        "    print(\"False\")\n",
        "palindrome()"
      ],
      "metadata": {
        "colab": {
          "base_uri": "https://localhost:8080/",
          "height": 0
        },
        "id": "L7ilKsu6PCC5",
        "outputId": "949ecffc-6106-4c47-ffe1-34db3b0abe2a"
      },
      "execution_count": 3,
      "outputs": [
        {
          "output_type": "stream",
          "name": "stdout",
          "text": [
            "eye\n",
            "True\n"
          ]
        }
      ]
    },
    {
      "cell_type": "code",
      "source": [
        "student_marks = {\n",
        "    \"mukesh\": 78,\n",
        "    \"mani\": 56,\n",
        "    \"Chaitanya\": 95,\n",
        "    \"David\": 44,\n",
        "    \"siri\": 23\n",
        "}\n",
        "\n",
        "# now calculate the average marks\n",
        "average_marks = sum(student_marks.values()) / len(student_marks)\n",
        "\n",
        "#  Print the names of students scoring above the average\n",
        "print(f\"Average marks: {average_marks:.2f}\")\n",
        "print(\"Students scoring above the average:\")\n",
        "\n",
        "for student, marks in student_marks.items():\n",
        "    if marks > average_marks:\n",
        "        print(student)"
      ],
      "metadata": {
        "colab": {
          "base_uri": "https://localhost:8080/",
          "height": 0
        },
        "id": "IQ4bjK-pXddu",
        "outputId": "ce05f932-3bb1-4b96-bb1a-7acb8d160304"
      },
      "execution_count": 8,
      "outputs": [
        {
          "output_type": "stream",
          "name": "stdout",
          "text": [
            "Average marks: 59.20\n",
            "Students scoring above the average:\n",
            "mukesh\n",
            "Chaitanya\n"
          ]
        }
      ]
    },
    {
      "cell_type": "code",
      "source": [
        "# First Create a list of tuples with numbers and their squares for numbers 1 to 10\n",
        "tuple_list = [(i, i**2) for i in range(1, 11)]\n",
        "\n",
        "# Print the resulting list of tuples\n",
        "print(tuple_list)"
      ],
      "metadata": {
        "colab": {
          "base_uri": "https://localhost:8080/"
        },
        "id": "688gejQOdKw5",
        "outputId": "b9765882-8475-4155-c197-830e65f4ab6d"
      },
      "execution_count": 9,
      "outputs": [
        {
          "output_type": "stream",
          "name": "stdout",
          "text": [
            "[(1, 1), (2, 4), (3, 9), (4, 16), (5, 25), (6, 36), (7, 49), (8, 64), (9, 81), (10, 100)]\n"
          ]
        }
      ]
    },
    {
      "cell_type": "code",
      "source": [
        "dict1 = {'a': 10, 'b': 20, 'c': 30}\n",
        "dict2 = {'b': 15, 'c': 25, 'd': 40}\n",
        "\n",
        "merged_dict = dict1.copy()\n",
        "\n",
        "for key, value in dict2.items():\n",
        "    if key in merged_dict:\n",
        "        merged_dict[key] += value  # If key is present in both, sum the values\n",
        "    else:\n",
        "        merged_dict[key] = value  # If key is only in dict2, add it\n",
        "print(merged_dict)"
      ],
      "metadata": {
        "colab": {
          "base_uri": "https://localhost:8080/"
        },
        "id": "3fV2kp7BmDrP",
        "outputId": "3051b40e-b04d-4df5-cd5e-fbcbda51c1e0"
      },
      "execution_count": 12,
      "outputs": [
        {
          "output_type": "stream",
          "name": "stdout",
          "text": [
            "{'a': 10, 'b': 35, 'c': 55, 'd': 40}\n"
          ]
        }
      ]
    },
    {
      "cell_type": "code",
      "source": [
        "def character_frequency(input_string):\n",
        "    # Convert all characters to lowercase\n",
        "    input_string = input_string.lower()\n",
        "\n",
        "    # now create an empty dictionary\n",
        "    frequency_dict = {}\n",
        "\n",
        "    # Iterate through each character in the string\n",
        "    for char in input_string:\n",
        "        # If the character is not a space (optional, you can include spaces if needed)\n",
        "        if char != ' ':\n",
        "            if char in frequency_dict:\n",
        "                frequency_dict[char] += 1\n",
        "            else:\n",
        "                frequency_dict[char] = 1\n",
        "\n",
        "    return frequency_dict"
      ],
      "metadata": {
        "id": "wOLprZiepOZ1"
      },
      "execution_count": 16,
      "outputs": []
    },
    {
      "cell_type": "code",
      "source": [
        "def string_operations(string_list):\n",
        "    # first find the longest string\n",
        "    longest_string = max(string_list, key=len)\n",
        "\n",
        "    #Now Count how many strings start with a vowel\n",
        "    vowels = 'aeiouAEIOU'\n",
        "    count_vowel_start = sum(1 for string in string_list if string[0] in vowels)\n",
        "\n",
        "    return longest_string, count_vowel_start\n",
        "\n",
        "# take an example:\n",
        "string_list = [\"apple\", \"banana\", \"orange\", \"umbrella\", \"grape\", \"kiwi\"]\n",
        "longest_string, vowel_count = string_operations(string_list)\n",
        "\n",
        "print(\"Longest string:\", longest_string)\n",
        "print(\"Number of strings starting with a vowel:\", vowel_count)"
      ],
      "metadata": {
        "colab": {
          "base_uri": "https://localhost:8080/"
        },
        "id": "N1wX4WKuw95I",
        "outputId": "47d6e50a-5268-4672-9466-cfb09f8c0755"
      },
      "execution_count": 17,
      "outputs": [
        {
          "output_type": "stream",
          "name": "stdout",
          "text": [
            "Longest string: umbrella\n",
            "Number of strings starting with a vowel: 3\n"
          ]
        }
      ]
    },
    {
      "cell_type": "code",
      "source": [
        "def sort_dictionaries_by_key(data, key):\n",
        "    # so by using sorted() to sort the list of dictionaries by the specified key\n",
        "    return sorted(data, key=lambda x: x[key])\n",
        "\n",
        "#take an example:\n",
        "data = [{'name': 'Alice', 'age': 25}, {'name': 'Bob', 'age': 22}]\n",
        "sorted_data = sort_dictionaries_by_key(data, 'age')\n",
        "\n",
        "print(sorted_data)"
      ],
      "metadata": {
        "colab": {
          "base_uri": "https://localhost:8080/"
        },
        "id": "I7yFc49szAZe",
        "outputId": "4bb5c780-6179-41cf-d6d3-b6023e39295e"
      },
      "execution_count": 19,
      "outputs": [
        {
          "output_type": "stream",
          "name": "stdout",
          "text": [
            "[{'name': 'Bob', 'age': 22}, {'name': 'Alice', 'age': 25}]\n"
          ]
        }
      ]
    },
    {
      "cell_type": "code",
      "source": [
        "def process_string(n):\n",
        "    # First Split the string into a list of words\n",
        "    words = n.split()\n",
        "\n",
        "    # Now Remove words shorter than 4 characters\n",
        "    filter_the_words = [word for word in words if len(word) >= 4]\n",
        "\n",
        "    #Sort the remaining words alphabetically\n",
        "    sort_the_words = sorted(filter_the_words)\n",
        "\n",
        "    return sort_the_words\n",
        "\n",
        "# Example usage:\n",
        "n = \"I am learning Python programming\"\n",
        "result = process_string(n)\n",
        "\n",
        "print(result)"
      ],
      "metadata": {
        "colab": {
          "base_uri": "https://localhost:8080/"
        },
        "id": "EEZNmLnJ0MKs",
        "outputId": "5179575d-920a-469d-bfb7-0256c5de3e52"
      },
      "execution_count": 22,
      "outputs": [
        {
          "output_type": "stream",
          "name": "stdout",
          "text": [
            "['Python', 'learning', 'programming']\n"
          ]
        }
      ]
    },
    {
      "cell_type": "code",
      "source": [
        "def set_operations(list1, list2):\n",
        "    # Convert lists to sets\n",
        "    set1 = set(list1)\n",
        "    set2 = set(list2)\n",
        "\n",
        "    # To Find the intersection\n",
        "    intersection = set1.intersection(set2)\n",
        "\n",
        "    # To Find the union\n",
        "    union = set1.union(set2)\n",
        "\n",
        "    # To Find the symmetric difference\n",
        "    symmetric_difference = set1.symmetric_difference(set2)\n",
        "\n",
        "    return intersection, union, symmetric_difference\n",
        "\n",
        "#For example\n",
        "list1 = [1, 2, 3, 4, 5]\n",
        "list2 = [4, 5, 6, 7, 8]\n",
        "\n",
        "intersection, union, symmetric_difference = set_operations(list1, list2)\n",
        "\n",
        "print(\"Intersection:\", intersection)\n",
        "print(\"Union:\", union)\n",
        "print(\"Symmetric Difference:\", symmetric_difference)"
      ],
      "metadata": {
        "colab": {
          "base_uri": "https://localhost:8080/"
        },
        "id": "Avz6FAS_1x5G",
        "outputId": "294a612c-ee6c-485c-8b24-e92bd6ab5f9f"
      },
      "execution_count": 23,
      "outputs": [
        {
          "output_type": "stream",
          "name": "stdout",
          "text": [
            "Intersection: {4, 5}\n",
            "Union: {1, 2, 3, 4, 5, 6, 7, 8}\n",
            "Symmetric Difference: {1, 2, 3, 6, 7, 8}\n"
          ]
        }
      ]
    },
    {
      "cell_type": "code",
      "source": [
        "import statistics\n",
        "\n",
        "def calculate_statistics(numbers):\n",
        "    mean = statistics.mean(numbers)\n",
        "    median = statistics.median(numbers)\n",
        "    mode = statistics.mode(numbers)\n",
        "    std_deviation = statistics.stdev(numbers)\n",
        "\n",
        "    return mean, median, mode, std_deviation\n",
        "\n",
        "# for example:\n",
        "numbers = [20, 30, 40, 50, 60, 70, 80, 90, 100]\n",
        "mean, median, mode, std_deviation = calculate_statistics(numbers)\n",
        "\n",
        "print(f\"Mean: {mean}\")\n",
        "print(f\"Median: {median}\")\n",
        "print(f\"Mode: {mode}\")\n",
        "print(f\"Standard Deviation: {std_deviation}\")"
      ],
      "metadata": {
        "colab": {
          "base_uri": "https://localhost:8080/"
        },
        "id": "2wag888u4Fxp",
        "outputId": "d307f667-053e-45ac-eb83-3a0932a3eb9f"
      },
      "execution_count": 24,
      "outputs": [
        {
          "output_type": "stream",
          "name": "stdout",
          "text": [
            "Mean: 55\n",
            "Median: 55.0\n",
            "Mode: 10\n",
            "Standard Deviation: 30.276503540974915\n"
          ]
        }
      ]
    },
    {
      "cell_type": "code",
      "source": [
        "def normalize(numbers):\n",
        "    # To Find the minimum and maximum values of the list\n",
        "    min_val = min(numbers)\n",
        "    max_val = max(numbers)\n",
        "\n",
        "    # To Normalize each number using the min-max formula\n",
        "    normalized_numbers = [(x - min_val) / (max_val - min_val) for x in numbers]\n",
        "\n",
        "    return normalized_numbers\n",
        "\n",
        "# Now take an example:\n",
        "numbers = [10, 20, 30, 40, 50]\n",
        "normalized_numbers = normalize(numbers)\n",
        "\n",
        "print(f\"Normalized Numbers: {normalized_numbers}\")"
      ],
      "metadata": {
        "colab": {
          "base_uri": "https://localhost:8080/"
        },
        "id": "PLmrKmfT4HEw",
        "outputId": "02915798-5f9a-4dc3-c9a1-a8c3af29f950"
      },
      "execution_count": 26,
      "outputs": [
        {
          "output_type": "stream",
          "name": "stdout",
          "text": [
            "Normalized Numbers: [0.0, 0.25, 0.5, 0.75, 1.0]\n"
          ]
        }
      ]
    },
    {
      "cell_type": "code",
      "source": [
        "def get_letter_grade():\n",
        "    grade = float(input(\"Enter your numerical grade: \"))\n",
        "\n",
        "    if 90 <= grade <= 100:\n",
        "        print(\"Your grade is: A\")\n",
        "    elif 80 <= grade < 90:\n",
        "        print(\"Your grade is: B\")\n",
        "    elif 70 <= grade < 80:\n",
        "        print(\"Your grade is: C\")\n",
        "    elif 60 <= grade < 70:\n",
        "        print(\"Your grade is: D\")\n",
        "    elif 0 <= grade < 60:\n",
        "        print(\"Your grade is: F\")\n",
        "    else:\n",
        "        print(\"Invalid grade. Please enter a grade between 0 and 100.\")\n",
        "\n",
        "get_letter_grade()"
      ],
      "metadata": {
        "colab": {
          "base_uri": "https://localhost:8080/"
        },
        "id": "ZCa3FHOg5XqV",
        "outputId": "d09e388f-da53-4516-f1ad-c27532bb8440"
      },
      "execution_count": 27,
      "outputs": [
        {
          "output_type": "stream",
          "name": "stdout",
          "text": [
            "Enter your numerical grade (0-100): 95\n",
            "Your grade is: A\n"
          ]
        }
      ]
    },
    {
      "cell_type": "code",
      "source": [
        "def check_leap_year():\n",
        "    year = int(input(\"Enter a year: \"))\n",
        "\n",
        "# Check if the year is a leap year\n",
        "    if (year % 4 == 0 and year % 100 != 0) or (year % 400 == 0):\n",
        "        print(f\"{year} is a Leap Year.\")\n",
        "    else:\n",
        "        print(f\"{year} is not a Leap Year.\")\n",
        "\n",
        "check_leap_year()"
      ],
      "metadata": {
        "colab": {
          "base_uri": "https://localhost:8080/"
        },
        "id": "-SfE3Yx85oY6",
        "outputId": "d84cf65d-6713-4fbb-dcca-52bdf13187c6"
      },
      "execution_count": 28,
      "outputs": [
        {
          "output_type": "stream",
          "name": "stdout",
          "text": [
            "Enter a year: 2025\n",
            "2025 is not a Leap Year.\n"
          ]
        }
      ]
    },
    {
      "cell_type": "code",
      "source": [
        "def check_even_odd():\n",
        "    number = int(input(\"Enter an integer: \"))\n",
        "\n",
        "    # To check if the number is even or odd\n",
        "    if number % 2 == 0:\n",
        "        print(f\"{number} is Even\")\n",
        "    else:\n",
        "        print(f\"{number} is Odd\")\n",
        "\n",
        "check_even_odd()"
      ],
      "metadata": {
        "colab": {
          "base_uri": "https://localhost:8080/"
        },
        "id": "w_5VOa_V45s9",
        "outputId": "90eab4f7-7f38-4eb5-d23b-b27f834488fa"
      },
      "execution_count": 25,
      "outputs": [
        {
          "output_type": "stream",
          "name": "stdout",
          "text": [
            "Enter an integer: 34\n",
            "34 is Even\n"
          ]
        }
      ]
    }
  ],
  "metadata": {
    "colab": {
      "name": "Welcome To Colab",
      "provenance": [],
      "include_colab_link": true
    },
    "kernelspec": {
      "display_name": "Python 3",
      "name": "python3"
    }
  },
  "nbformat": 4,
  "nbformat_minor": 0
}